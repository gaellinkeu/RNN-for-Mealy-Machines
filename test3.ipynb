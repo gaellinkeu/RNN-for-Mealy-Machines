{
 "cells": [
  {
   "cell_type": "code",
   "execution_count": 2,
   "metadata": {},
   "outputs": [
    {
     "name": "stdout",
     "output_type": "stream",
     "text": [
      "\n",
      "********************* Prefix Tree of Mealy Machine corpus **********************\n",
      "\n",
      "\n",
      "Number of states: 12\n",
      "Number of transitions: 11\n",
      "Initial state: 0\n",
      "Input vocabulary: ['b', 'a']\n",
      "Output vocabulary: ['1', '0']\n",
      "\n",
      "Different states of the Tree: \n",
      "ID: 0\n",
      "ID: 1\n",
      "ID: 2\n",
      "ID: 3\n",
      "ID: 4\n",
      "ID: 5\n",
      "ID: 6\n",
      "ID: 7\n",
      "ID: 8\n",
      "ID: 9\n",
      "ID: 10\n",
      "ID: 11\n",
      "\n",
      "Different transitions of the Tree: \n",
      "0 --> b/1 --> 1\n",
      "1 --> a/1 --> 2\n",
      "0 --> a/1 --> 3\n",
      "2 --> a/0 --> 4\n",
      "4 --> a/0 --> 5\n",
      "3 --> a/0 --> 6\n",
      "3 --> b/0 --> 7\n",
      "7 --> a/1 --> 8\n",
      "8 --> a/0 --> 9\n",
      "7 --> b/1 --> 10\n",
      "1 --> b/1 --> 11\n"
     ]
    }
   ],
   "source": [
    "from mealy_trie import Trie\n",
    "\n",
    "corpus = ['ba', 'b', 'a', 'baa', 'a', 'baaa', 'aa', 'b', 'abaa', 'abb', 'bb']\n",
    "labels = ['11', '1', '1', '110', '1', '1100', '10', '1', '1010', '101', '11']\n",
    "\n",
    "mask = [x!=\"z\" for x in corpus]\n",
    "\n",
    "t = Trie(corpus, labels)\n",
    "t.print()\n",
    "       "
   ]
  },
  {
   "cell_type": "code",
   "execution_count": 3,
   "metadata": {},
   "outputs": [
    {
     "data": {
      "text/plain": [
       "[<mealy_trie.TrieTransition at 0x1fcb0a01150>,\n",
       " <mealy_trie.TrieTransition at 0x1fcb0a01390>,\n",
       " <mealy_trie.TrieTransition at 0x1fcb0a010d0>,\n",
       " <mealy_trie.TrieTransition at 0x1fcb0a01350>,\n",
       " <mealy_trie.TrieTransition at 0x1fcb0a01690>,\n",
       " <mealy_trie.TrieTransition at 0x1fcb0a01910>,\n",
       " <mealy_trie.TrieTransition at 0x1fcb0a01a50>,\n",
       " <mealy_trie.TrieTransition at 0x1fcb0a01510>,\n",
       " <mealy_trie.TrieTransition at 0x1fcb0a01cd0>,\n",
       " <mealy_trie.TrieTransition at 0x1fcb0a01f50>,\n",
       " <mealy_trie.TrieTransition at 0x1fcb0a02150>]"
      ]
     },
     "execution_count": 3,
     "metadata": {},
     "output_type": "execute_result"
    }
   ],
   "source": [
    "t.transitions"
   ]
  }
 ],
 "metadata": {
  "kernelspec": {
   "display_name": "Python 3",
   "language": "python",
   "name": "python3"
  },
  "language_info": {
   "codemirror_mode": {
    "name": "ipython",
    "version": 3
   },
   "file_extension": ".py",
   "mimetype": "text/x-python",
   "name": "python",
   "nbconvert_exporter": "python",
   "pygments_lexer": "ipython3",
   "version": "3.11.2"
  },
  "orig_nbformat": 4
 },
 "nbformat": 4,
 "nbformat_minor": 2
}
