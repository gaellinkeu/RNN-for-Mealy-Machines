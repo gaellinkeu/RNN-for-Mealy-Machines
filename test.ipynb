{
 "cells": [
  {
   "cell_type": "code",
   "execution_count": 3,
   "metadata": {},
   "outputs": [],
   "source": [
    "her = {0: 'her', 1: 'reer', 4: 'reuuu'}"
   ]
  },
  {
   "cell_type": "code",
   "execution_count": 7,
   "metadata": {},
   "outputs": [],
   "source": [
    "her[3] = 'ferrr'"
   ]
  },
  {
   "cell_type": "code",
   "execution_count": 12,
   "metadata": {},
   "outputs": [],
   "source": [
    "def class_mapping(label, numb_class):\n",
    "    y_train = []\n",
    "    for x in label:\n",
    "        assert int(x) < numb_class\n",
    "        y_train.append([int(i==int(x)) for i in range(numb_class)])\n",
    "        \n",
    "    return y_train"
   ]
  },
  {
   "cell_type": "code",
   "execution_count": 14,
   "metadata": {},
   "outputs": [
    {
     "name": "stdout",
     "output_type": "stream",
     "text": [
      "[[0, 1, 0], [0, 1, 0]]\n",
      "[[1, 0, 0], [0, 1, 0], [1, 0, 0], [0, 1, 0]]\n",
      "[[1, 0, 0], [0, 0, 1]]\n"
     ]
    }
   ],
   "source": [
    "print(class_mapping('11', 3))\n",
    "print(class_mapping('0101', 3))\n",
    "print(class_mapping('02', 3))"
   ]
  },
  {
   "cell_type": "code",
   "execution_count": 19,
   "metadata": {},
   "outputs": [],
   "source": [
    "def tokenisation(word, num_token = 3):\n",
    "    x_train = []\n",
    "    for x in word:\n",
    "        if x == 'a':\n",
    "            x_train.append(0)\n",
    "        elif x == 'b':\n",
    "            x_train.append(1)\n",
    "        else:\n",
    "            x_train.append(2)\n",
    "    \n",
    "    return x_train\n",
    "\n",
    "A =tokenisation('aabbz')"
   ]
  },
  {
   "cell_type": "code",
   "execution_count": 21,
   "metadata": {},
   "outputs": [
    {
     "name": "stdout",
     "output_type": "stream",
     "text": [
      "[0, 0, 1, 1, 2]\n"
     ]
    }
   ],
   "source": [
    "print(A)"
   ]
  },
  {
   "cell_type": "code",
   "execution_count": 22,
   "metadata": {},
   "outputs": [
    {
     "data": {
      "text/plain": [
       "[True, True, True, False]"
      ]
     },
     "execution_count": 22,
     "metadata": {},
     "output_type": "execute_result"
    }
   ],
   "source": [
    "def masking(word, pad_char = 'z'):\n",
    "    return [x!=pad_char for x in word]\n",
    "\n",
    "masking('abbz')"
   ]
  },
  {
   "cell_type": "code",
   "execution_count": 23,
   "metadata": {},
   "outputs": [],
   "source": [
    "from utils import class_mapping, tokenization, masking\n",
    "import numpy as np"
   ]
  },
  {
   "cell_type": "code",
   "execution_count": 24,
   "metadata": {},
   "outputs": [],
   "source": [
    "max_length = 4\n",
    "corpus = ['ba', 'b', 'a', 'baa', 'a', 'baaa', 'aa', 'b', 'abaa', 'abb', 'bb']\n",
    "labels = ['11', '1', '1', '110', '1', '1100', '10', '1', '1010', '101', '11']\n",
    "corpus_ = [\"e\"+x+\"z\"*(max_length-len(x)) for x in corpus]\n",
    "labels_ = [\"0\"+x+\"2\"*(max_length - len(x)) for x in labels]\n",
    "states = []\n",
    "\n",
    "x_train = np.array([tokenization(x) for x in corpus_])\n",
    "y_train = np.array([class_mapping(x) for x in labels_])\n",
    "mask = np.array([masking(x) for x in corpus_])"
   ]
  },
  {
   "cell_type": "code",
   "execution_count": 27,
   "metadata": {},
   "outputs": [
    {
     "name": "stdout",
     "output_type": "stream",
     "text": [
      "[[ True  True  True False False]\n",
      " [ True  True False False False]\n",
      " [ True  True False False False]\n",
      " [ True  True  True  True False]\n",
      " [ True  True False False False]\n",
      " [ True  True  True  True  True]\n",
      " [ True  True  True False False]\n",
      " [ True  True False False False]\n",
      " [ True  True  True  True  True]\n",
      " [ True  True  True  True False]\n",
      " [ True  True  True False False]]\n"
     ]
    }
   ],
   "source": [
    "#print(x_train)\n",
    "print(mask)"
   ]
  },
  {
   "cell_type": "code",
   "execution_count": 29,
   "metadata": {},
   "outputs": [],
   "source": [
    "import tensorflow as tf"
   ]
  },
  {
   "cell_type": "code",
   "execution_count": 30,
   "metadata": {},
   "outputs": [],
   "source": [
    "labels_ = [[[1,0,0], [0,1,0], [1,0,0]], [[0,0,1],[1,0,0], [0,1,0]]]\n",
    "logits_ = [[[0.91,0.08,0.01], [0.2,0.6,0.2], [0.75,0.05,0.2]], [[0.33,0.1,0.57],[0.8,0.1,0.1], [0.04,0.9,0.06]]]\n",
    "labels = tf.convert_to_tensor(labels_, dtype=tf.float32)\n",
    "logits = tf.convert_to_tensor(logits_, dtype=tf.float32)"
   ]
  },
  {
   "cell_type": "code",
   "execution_count": 31,
   "metadata": {},
   "outputs": [
    {
     "data": {
      "text/plain": [
       "<tf.Tensor: shape=(2, 3), dtype=bool, numpy=\n",
       "array([[ True,  True,  True],\n",
       "       [ True,  True,  True]])>"
      ]
     },
     "execution_count": 31,
     "metadata": {},
     "output_type": "execute_result"
    }
   ],
   "source": [
    "predictions_ = tf.equal(tf.argmax(logits, -1), tf.argmax(labels, -1))\n",
    "predictions_"
   ]
  }
 ],
 "metadata": {
  "kernelspec": {
   "display_name": "Python 3",
   "language": "python",
   "name": "python3"
  },
  "language_info": {
   "codemirror_mode": {
    "name": "ipython",
    "version": 3
   },
   "file_extension": ".py",
   "mimetype": "text/x-python",
   "name": "python",
   "nbconvert_exporter": "python",
   "pygments_lexer": "ipython3",
   "version": "3.11.2"
  },
  "orig_nbformat": 4
 },
 "nbformat": 4,
 "nbformat_minor": 2
}
