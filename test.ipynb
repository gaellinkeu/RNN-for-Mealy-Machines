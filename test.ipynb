{
 "cells": [
  {
   "cell_type": "code",
   "execution_count": 3,
   "metadata": {},
   "outputs": [],
   "source": [
    "her = {0: 'her', 1: 'reer', 4: 'reuuu'}"
   ]
  },
  {
   "cell_type": "code",
   "execution_count": 7,
   "metadata": {},
   "outputs": [],
   "source": [
    "her[3] = 'ferrr'"
   ]
  },
  {
   "cell_type": "code",
   "execution_count": 12,
   "metadata": {},
   "outputs": [],
   "source": [
    "def class_mapping(label, numb_class):\n",
    "    y_train = []\n",
    "    for x in label:\n",
    "        assert int(x) < numb_class\n",
    "        y_train.append([int(i==int(x)) for i in range(numb_class)])\n",
    "        \n",
    "    return y_train"
   ]
  },
  {
   "cell_type": "code",
   "execution_count": 14,
   "metadata": {},
   "outputs": [
    {
     "name": "stdout",
     "output_type": "stream",
     "text": [
      "[[0, 1, 0], [0, 1, 0]]\n",
      "[[1, 0, 0], [0, 1, 0], [1, 0, 0], [0, 1, 0]]\n",
      "[[1, 0, 0], [0, 0, 1]]\n"
     ]
    }
   ],
   "source": [
    "print(class_mapping('11', 3))\n",
    "print(class_mapping('0101', 3))\n",
    "print(class_mapping('02', 3))"
   ]
  },
  {
   "cell_type": "code",
   "execution_count": 19,
   "metadata": {},
   "outputs": [],
   "source": [
    "def tokenisation(word, num_token = 3):\n",
    "    x_train = []\n",
    "    for x in word:\n",
    "        if x == 'a':\n",
    "            x_train.append(0)\n",
    "        elif x == 'b':\n",
    "            x_train.append(1)\n",
    "        else:\n",
    "            x_train.append(2)\n",
    "    \n",
    "    return x_train\n",
    "\n",
    "A =tokenisation('aabbz')"
   ]
  },
  {
   "cell_type": "code",
   "execution_count": 21,
   "metadata": {},
   "outputs": [
    {
     "name": "stdout",
     "output_type": "stream",
     "text": [
      "[0, 0, 1, 1, 2]\n"
     ]
    }
   ],
   "source": [
    "print(A)"
   ]
  },
  {
   "cell_type": "code",
   "execution_count": 22,
   "metadata": {},
   "outputs": [
    {
     "data": {
      "text/plain": [
       "[True, True, True, False]"
      ]
     },
     "execution_count": 22,
     "metadata": {},
     "output_type": "execute_result"
    }
   ],
   "source": [
    "def masking(word, pad_char = 'z'):\n",
    "    return [x!=pad_char for x in word]\n",
    "\n",
    "masking('abbz')"
   ]
  },
  {
   "cell_type": "code",
   "execution_count": 23,
   "metadata": {},
   "outputs": [],
   "source": [
    "from utils import class_mapping, tokenization, masking\n",
    "import numpy as np"
   ]
  },
  {
   "cell_type": "code",
   "execution_count": 24,
   "metadata": {},
   "outputs": [],
   "source": [
    "max_length = 4\n",
    "corpus = ['ba', 'b', 'a', 'baa', 'a', 'baaa', 'aa', 'b', 'abaa', 'abb', 'bb']\n",
    "labels = ['11', '1', '1', '110', '1', '1100', '10', '1', '1010', '101', '11']\n",
    "corpus_ = [\"e\"+x+\"z\"*(max_length-len(x)) for x in corpus]\n",
    "labels_ = [\"0\"+x+\"2\"*(max_length - len(x)) for x in labels]\n",
    "states = []\n",
    "\n",
    "x_train = np.array([tokenization(x) for x in corpus_])\n",
    "y_train = np.array([class_mapping(x) for x in labels_])\n",
    "mask = np.array([masking(x) for x in corpus_])"
   ]
  },
  {
   "cell_type": "code",
   "execution_count": 27,
   "metadata": {},
   "outputs": [
    {
     "name": "stdout",
     "output_type": "stream",
     "text": [
      "[[ True  True  True False False]\n",
      " [ True  True False False False]\n",
      " [ True  True False False False]\n",
      " [ True  True  True  True False]\n",
      " [ True  True False False False]\n",
      " [ True  True  True  True  True]\n",
      " [ True  True  True False False]\n",
      " [ True  True False False False]\n",
      " [ True  True  True  True  True]\n",
      " [ True  True  True  True False]\n",
      " [ True  True  True False False]]\n"
     ]
    }
   ],
   "source": [
    "#print(x_train)\n",
    "print(mask)"
   ]
  },
  {
   "cell_type": "code",
   "execution_count": 29,
   "metadata": {},
   "outputs": [],
   "source": [
    "import tensorflow as tf"
   ]
  },
  {
   "cell_type": "code",
   "execution_count": 33,
   "metadata": {},
   "outputs": [],
   "source": [
    "labels_ = [[[1,0,0], [0,1,0], [1,0,0]], [[0,0,1],[0,1,0], [0,1,0]]]\n",
    "logits_ = [[[0.91,0.08,0.01], [0.2,0.6,0.2], [0.75,0.05,0.2]], [[0.33,0.1,0.57],[0.8,0.1,0.1], [0.04,0.9,0.06]]]\n",
    "labels = tf.convert_to_tensor(labels_, dtype=tf.float32)\n",
    "logits = tf.convert_to_tensor(logits_, dtype=tf.float32)"
   ]
  },
  {
   "cell_type": "code",
   "execution_count": 34,
   "metadata": {},
   "outputs": [
    {
     "data": {
      "text/plain": [
       "<tf.Tensor: shape=(2, 3), dtype=bool, numpy=\n",
       "array([[ True,  True,  True],\n",
       "       [ True, False,  True]])>"
      ]
     },
     "execution_count": 34,
     "metadata": {},
     "output_type": "execute_result"
    }
   ],
   "source": [
    "predictions_ = tf.equal(tf.argmax(logits, -1), tf.argmax(labels, -1))\n",
    "predictions_"
   ]
  },
  {
   "cell_type": "code",
   "execution_count": 40,
   "metadata": {},
   "outputs": [
    {
     "data": {
      "text/plain": [
       "0.8333333"
      ]
     },
     "execution_count": 40,
     "metadata": {},
     "output_type": "execute_result"
    }
   ],
   "source": [
    "accuracy = tf.reduce_mean(tf.cast(predictions_, tf.float32))\n",
    "accuracy.numpy()"
   ]
  },
  {
   "cell_type": "code",
   "execution_count": 1,
   "metadata": {},
   "outputs": [],
   "source": [
    "ter = (2,3,4)"
   ]
  },
  {
   "cell_type": "code",
   "execution_count": 13,
   "metadata": {},
   "outputs": [
    {
     "data": {
      "text/plain": [
       "4"
      ]
     },
     "execution_count": 13,
     "metadata": {},
     "output_type": "execute_result"
    }
   ],
   "source": [
    "ter[2]"
   ]
  },
  {
   "cell_type": "code",
   "execution_count": 16,
   "metadata": {},
   "outputs": [],
   "source": [
    "class Mealy(object):\n",
    "\n",
    "    def __init__(self, root, nodes, arcs):\n",
    "        # nodes = [0,1,2,...]\n",
    "        # arcs = [(0,a,1,1), ...]\n",
    "\n",
    "        self.root =  root\n",
    "        self.node = nodes\n",
    "        self.transitions = arcs\n",
    "\n",
    "    \"\"\"def label(self, word):\n",
    "        node = self.root\n",
    "        label = []\n",
    "        for x in word:\n",
    "            label.append(self.states[node.children[i][1]])\"\"\"\n",
    "    \n",
    "    def output(self, initial_state, input_char):\n",
    "        for x in self.transitions:\n",
    "            if x[0] == initial_state and x[1] ==  input_char:\n",
    "                return (x[2], x[3])\n",
    "        return None\n",
    "\n",
    "    def return_outputs(self, word):\n",
    "        output = []\n",
    "        for i in range(len(word)):\n",
    "            if i == 0:\n",
    "                output.append(self.root)\n",
    "            else:\n",
    "                output.append(self.output(output[i-1], word[i])[1])\n",
    "        return output\n",
    "    \n",
    "    def return_states(self, word):\n",
    "        idx = []\n",
    "        for i in range(len(word)):\n",
    "            if i == 0:\n",
    "                idx.append(self.root)\n",
    "            else:\n",
    "                idx.append(self.output(idx[i-1], word[i])[0])\n",
    "        return idx"
   ]
  },
  {
   "cell_type": "code",
   "execution_count": 17,
   "metadata": {},
   "outputs": [
    {
     "name": "stdout",
     "output_type": "stream",
     "text": [
      "(1, 1)\n",
      "(0, 3)\n",
      "[0, 1, 0]\n"
     ]
    }
   ],
   "source": [
    "class node(object):\n",
    "    \n",
    "    def __init__(self, children):\n",
    "        self.children = children\n",
    "        \n",
    "node = [0,1,2,3,4]\n",
    "arcs = [(0,'a',1,1), (0,'b',0,2), (1,'a',0,3), (2,'b',1,4)]\n",
    "m = Mealy(0, node, arcs)\n",
    "\n",
    "o = m.return_states('eaa')\n",
    "print(o)"
   ]
  },
  {
   "cell_type": "code",
   "execution_count": 19,
   "metadata": {},
   "outputs": [
    {
     "data": {
      "text/plain": [
       "array([[1, 2],\n",
       "       [3, 4]])"
      ]
     },
     "execution_count": 19,
     "metadata": {},
     "output_type": "execute_result"
    }
   ],
   "source": [
    "import tensorflow as tf\n",
    "\n",
    "a = tf.constant([[1, 2], [3, 4]])                 \n",
    "b = tf.add(a, 1)\n",
    "\n",
    "a.numpy()"
   ]
  },
  {
   "cell_type": "code",
   "execution_count": 8,
   "metadata": {},
   "outputs": [
    {
     "name": "stdout",
     "output_type": "stream",
     "text": [
      "Model: \"sequential_3\"\n",
      "_________________________________________________________________\n",
      " Layer (type)                Output Shape              Param #   \n",
      "=================================================================\n",
      " dense_6 (Dense)             (None, 2)                 8         \n",
      "                                                                 \n",
      " dense_7 (Dense)             (None, 1)                 3         \n",
      "                                                                 \n",
      "=================================================================\n",
      "Total params: 11\n",
      "Trainable params: 11\n",
      "Non-trainable params: 0\n",
      "_________________________________________________________________\n",
      "None\n"
     ]
    }
   ],
   "source": [
    "from tensorflow import keras\n",
    "from keras.models import Sequential\n",
    "from keras.layers import Dense\n",
    "import numpy as np\n",
    "\n",
    "x = np.array([[2,3,4],\n",
    "     [2.6, 1.3, 2.8],\n",
    "     [8.1, 7.2, 7.5]])\n",
    "\n",
    "y = np.array([1, 0, 1])\n",
    "\n",
    "model2 = Sequential()\n",
    "model2.add(Dense(units=2, input_dim=3, kernel_initializer='normal', activation=None))\n",
    "model2.add(Dense(1, kernel_initializer='normal'))\n",
    "model2.compile(loss='mean_squared_error', optimizer='adam', metrics='accuracy')\n",
    "print(model2.summary())"
   ]
  },
  {
   "cell_type": "code",
   "execution_count": 9,
   "metadata": {},
   "outputs": [
    {
     "name": "stdout",
     "output_type": "stream",
     "text": [
      "Epoch 1/3\n",
      "3/3 [==============================] - 4s 48ms/step - loss: 0.6775 - accuracy: 0.3333\n",
      "Epoch 2/3\n",
      "3/3 [==============================] - 0s 5ms/step - loss: 0.6713 - accuracy: 0.3333\n",
      "Epoch 3/3\n",
      "3/3 [==============================] - 0s 17ms/step - loss: 0.6657 - accuracy: 0.3333\n"
     ]
    },
    {
     "data": {
      "text/plain": [
       "<keras.callbacks.History at 0x22a31b74c50>"
      ]
     },
     "execution_count": 9,
     "metadata": {},
     "output_type": "execute_result"
    }
   ],
   "source": [
    "model2.fit(x, y, 1, 3)"
   ]
  },
  {
   "cell_type": "code",
   "execution_count": 16,
   "metadata": {},
   "outputs": [
    {
     "ename": "AttributeError",
     "evalue": "'Sequential' object has no attribute 'metrics_tensors'",
     "output_type": "error",
     "traceback": [
      "\u001b[1;31m---------------------------------------------------------------------------\u001b[0m",
      "\u001b[1;31mAttributeError\u001b[0m                            Traceback (most recent call last)",
      "Cell \u001b[1;32mIn[16], line 2\u001b[0m\n\u001b[0;32m      1\u001b[0m output_layers \u001b[39m=\u001b[39m [\u001b[39m'\u001b[39m\u001b[39moutput1\u001b[39m\u001b[39m'\u001b[39m, \u001b[39m'\u001b[39m\u001b[39moutput2\u001b[39m\u001b[39m'\u001b[39m]\n\u001b[1;32m----> 2\u001b[0m model2\u001b[39m.\u001b[39;49mmetrics_tensors \u001b[39m+\u001b[39m\u001b[39m=\u001b[39m [layer\u001b[39m.\u001b[39moutput \u001b[39mfor\u001b[39;00m layer \u001b[39min\u001b[39;00m model\u001b[39m.\u001b[39mlayers \u001b[39mif\u001b[39;00m layer\u001b[39m.\u001b[39mname \u001b[39min\u001b[39;00m output_layers]\n",
      "\u001b[1;31mAttributeError\u001b[0m: 'Sequential' object has no attribute 'metrics_tensors'"
     ]
    }
   ],
   "source": [
    "\n",
    "output_layers = ['output1', 'output2']\n",
    "model2.metrics_tensors += [layer.output for layer in model.layers if layer.name in output_layers]\n"
   ]
  },
  {
   "cell_type": "code",
   "execution_count": null,
   "metadata": {},
   "outputs": [],
   "source": [
    "import numpy as np\n",
    "import matplotlib as plt\n",
    "\n",
    "id = range(0,9)\n",
    "x = [i+2 for i in id]\n",
    "y = [10,10,8,10,3,3,6,10,1,6]\n",
    "fig,ax = plt.subplots(figsize=(12,6))\n",
    "ax.bar(x, y, 0.4)\n",
    "ax.set_xticks(x)\n",
    "ax.set_xlabel(\"Nombre d'états\")\n",
    "ax.set_ylabel(\"# machines équivalentes\")\n",
    "ax.axhline(y=10,color='red',ls='-')"
   ]
  }
 ],
 "metadata": {
  "kernelspec": {
   "display_name": "Python 3",
   "language": "python",
   "name": "python3"
  },
  "language_info": {
   "codemirror_mode": {
    "name": "ipython",
    "version": 3
   },
   "file_extension": ".py",
   "mimetype": "text/x-python",
   "name": "python",
   "nbconvert_exporter": "python",
   "pygments_lexer": "ipython3",
   "version": "3.11.4"
  },
  "orig_nbformat": 4
 },
 "nbformat": 4,
 "nbformat_minor": 2
}
